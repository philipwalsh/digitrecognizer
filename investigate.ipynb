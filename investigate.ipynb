{
 "cells": [
  {
   "cell_type": "code",
   "execution_count": 13,
   "metadata": {},
   "outputs": [],
   "source": [
    "# philip walsh\n",
    "# philipwalsj.ds@gmail.com\n",
    "# 2019-12-21\n",
    "# Digit Recognizer from https://www.kaggle.com/c/digit-recognizer/data"
   ]
  },
  {
   "cell_type": "code",
   "execution_count": 14,
   "metadata": {},
   "outputs": [],
   "source": [
    "import pandas as pd\n",
    "import numpy as np\n",
    "import matplotlib.pyplot as plt"
   ]
  },
  {
   "cell_type": "code",
   "execution_count": 15,
   "metadata": {},
   "outputs": [],
   "source": [
    "train_data = pd.read_csv(\"excluded/train-min.csv\")"
   ]
  },
  {
   "cell_type": "code",
   "execution_count": 16,
   "metadata": {},
   "outputs": [
    {
     "data": {
      "text/html": [
       "<div>\n",
       "<style scoped>\n",
       "    .dataframe tbody tr th:only-of-type {\n",
       "        vertical-align: middle;\n",
       "    }\n",
       "\n",
       "    .dataframe tbody tr th {\n",
       "        vertical-align: top;\n",
       "    }\n",
       "\n",
       "    .dataframe thead th {\n",
       "        text-align: right;\n",
       "    }\n",
       "</style>\n",
       "<table border=\"1\" class=\"dataframe\">\n",
       "  <thead>\n",
       "    <tr style=\"text-align: right;\">\n",
       "      <th></th>\n",
       "      <th>label</th>\n",
       "      <th>pixel0</th>\n",
       "      <th>pixel1</th>\n",
       "      <th>pixel2</th>\n",
       "      <th>pixel3</th>\n",
       "      <th>pixel4</th>\n",
       "      <th>pixel5</th>\n",
       "      <th>pixel6</th>\n",
       "      <th>pixel7</th>\n",
       "      <th>pixel8</th>\n",
       "      <th>...</th>\n",
       "      <th>pixel774</th>\n",
       "      <th>pixel775</th>\n",
       "      <th>pixel776</th>\n",
       "      <th>pixel777</th>\n",
       "      <th>pixel778</th>\n",
       "      <th>pixel779</th>\n",
       "      <th>pixel780</th>\n",
       "      <th>pixel781</th>\n",
       "      <th>pixel782</th>\n",
       "      <th>pixel783</th>\n",
       "    </tr>\n",
       "  </thead>\n",
       "  <tbody>\n",
       "    <tr>\n",
       "      <th>count</th>\n",
       "      <td>10000.00000</td>\n",
       "      <td>10000.0</td>\n",
       "      <td>10000.0</td>\n",
       "      <td>10000.0</td>\n",
       "      <td>10000.0</td>\n",
       "      <td>10000.0</td>\n",
       "      <td>10000.0</td>\n",
       "      <td>10000.0</td>\n",
       "      <td>10000.0</td>\n",
       "      <td>10000.0</td>\n",
       "      <td>...</td>\n",
       "      <td>10000.00000</td>\n",
       "      <td>10000.000000</td>\n",
       "      <td>10000.000000</td>\n",
       "      <td>10000.000000</td>\n",
       "      <td>10000.000000</td>\n",
       "      <td>10000.0000</td>\n",
       "      <td>10000.0</td>\n",
       "      <td>10000.0</td>\n",
       "      <td>10000.0</td>\n",
       "      <td>10000.0</td>\n",
       "    </tr>\n",
       "    <tr>\n",
       "      <th>mean</th>\n",
       "      <td>4.45140</td>\n",
       "      <td>0.0</td>\n",
       "      <td>0.0</td>\n",
       "      <td>0.0</td>\n",
       "      <td>0.0</td>\n",
       "      <td>0.0</td>\n",
       "      <td>0.0</td>\n",
       "      <td>0.0</td>\n",
       "      <td>0.0</td>\n",
       "      <td>0.0</td>\n",
       "      <td>...</td>\n",
       "      <td>0.29560</td>\n",
       "      <td>0.098500</td>\n",
       "      <td>0.018600</td>\n",
       "      <td>0.010700</td>\n",
       "      <td>0.040800</td>\n",
       "      <td>0.0058</td>\n",
       "      <td>0.0</td>\n",
       "      <td>0.0</td>\n",
       "      <td>0.0</td>\n",
       "      <td>0.0</td>\n",
       "    </tr>\n",
       "    <tr>\n",
       "      <th>std</th>\n",
       "      <td>2.90222</td>\n",
       "      <td>0.0</td>\n",
       "      <td>0.0</td>\n",
       "      <td>0.0</td>\n",
       "      <td>0.0</td>\n",
       "      <td>0.0</td>\n",
       "      <td>0.0</td>\n",
       "      <td>0.0</td>\n",
       "      <td>0.0</td>\n",
       "      <td>0.0</td>\n",
       "      <td>...</td>\n",
       "      <td>7.26243</td>\n",
       "      <td>4.164461</td>\n",
       "      <td>1.617997</td>\n",
       "      <td>0.815507</td>\n",
       "      <td>2.970255</td>\n",
       "      <td>0.5800</td>\n",
       "      <td>0.0</td>\n",
       "      <td>0.0</td>\n",
       "      <td>0.0</td>\n",
       "      <td>0.0</td>\n",
       "    </tr>\n",
       "    <tr>\n",
       "      <th>min</th>\n",
       "      <td>0.00000</td>\n",
       "      <td>0.0</td>\n",
       "      <td>0.0</td>\n",
       "      <td>0.0</td>\n",
       "      <td>0.0</td>\n",
       "      <td>0.0</td>\n",
       "      <td>0.0</td>\n",
       "      <td>0.0</td>\n",
       "      <td>0.0</td>\n",
       "      <td>0.0</td>\n",
       "      <td>...</td>\n",
       "      <td>0.00000</td>\n",
       "      <td>0.000000</td>\n",
       "      <td>0.000000</td>\n",
       "      <td>0.000000</td>\n",
       "      <td>0.000000</td>\n",
       "      <td>0.0000</td>\n",
       "      <td>0.0</td>\n",
       "      <td>0.0</td>\n",
       "      <td>0.0</td>\n",
       "      <td>0.0</td>\n",
       "    </tr>\n",
       "    <tr>\n",
       "      <th>25%</th>\n",
       "      <td>2.00000</td>\n",
       "      <td>0.0</td>\n",
       "      <td>0.0</td>\n",
       "      <td>0.0</td>\n",
       "      <td>0.0</td>\n",
       "      <td>0.0</td>\n",
       "      <td>0.0</td>\n",
       "      <td>0.0</td>\n",
       "      <td>0.0</td>\n",
       "      <td>0.0</td>\n",
       "      <td>...</td>\n",
       "      <td>0.00000</td>\n",
       "      <td>0.000000</td>\n",
       "      <td>0.000000</td>\n",
       "      <td>0.000000</td>\n",
       "      <td>0.000000</td>\n",
       "      <td>0.0000</td>\n",
       "      <td>0.0</td>\n",
       "      <td>0.0</td>\n",
       "      <td>0.0</td>\n",
       "      <td>0.0</td>\n",
       "    </tr>\n",
       "    <tr>\n",
       "      <th>50%</th>\n",
       "      <td>4.00000</td>\n",
       "      <td>0.0</td>\n",
       "      <td>0.0</td>\n",
       "      <td>0.0</td>\n",
       "      <td>0.0</td>\n",
       "      <td>0.0</td>\n",
       "      <td>0.0</td>\n",
       "      <td>0.0</td>\n",
       "      <td>0.0</td>\n",
       "      <td>0.0</td>\n",
       "      <td>...</td>\n",
       "      <td>0.00000</td>\n",
       "      <td>0.000000</td>\n",
       "      <td>0.000000</td>\n",
       "      <td>0.000000</td>\n",
       "      <td>0.000000</td>\n",
       "      <td>0.0000</td>\n",
       "      <td>0.0</td>\n",
       "      <td>0.0</td>\n",
       "      <td>0.0</td>\n",
       "      <td>0.0</td>\n",
       "    </tr>\n",
       "    <tr>\n",
       "      <th>75%</th>\n",
       "      <td>7.00000</td>\n",
       "      <td>0.0</td>\n",
       "      <td>0.0</td>\n",
       "      <td>0.0</td>\n",
       "      <td>0.0</td>\n",
       "      <td>0.0</td>\n",
       "      <td>0.0</td>\n",
       "      <td>0.0</td>\n",
       "      <td>0.0</td>\n",
       "      <td>0.0</td>\n",
       "      <td>...</td>\n",
       "      <td>0.00000</td>\n",
       "      <td>0.000000</td>\n",
       "      <td>0.000000</td>\n",
       "      <td>0.000000</td>\n",
       "      <td>0.000000</td>\n",
       "      <td>0.0000</td>\n",
       "      <td>0.0</td>\n",
       "      <td>0.0</td>\n",
       "      <td>0.0</td>\n",
       "      <td>0.0</td>\n",
       "    </tr>\n",
       "    <tr>\n",
       "      <th>max</th>\n",
       "      <td>9.00000</td>\n",
       "      <td>0.0</td>\n",
       "      <td>0.0</td>\n",
       "      <td>0.0</td>\n",
       "      <td>0.0</td>\n",
       "      <td>0.0</td>\n",
       "      <td>0.0</td>\n",
       "      <td>0.0</td>\n",
       "      <td>0.0</td>\n",
       "      <td>0.0</td>\n",
       "      <td>...</td>\n",
       "      <td>253.00000</td>\n",
       "      <td>254.000000</td>\n",
       "      <td>160.000000</td>\n",
       "      <td>79.000000</td>\n",
       "      <td>254.000000</td>\n",
       "      <td>58.0000</td>\n",
       "      <td>0.0</td>\n",
       "      <td>0.0</td>\n",
       "      <td>0.0</td>\n",
       "      <td>0.0</td>\n",
       "    </tr>\n",
       "  </tbody>\n",
       "</table>\n",
       "<p>8 rows × 785 columns</p>\n",
       "</div>"
      ],
      "text/plain": [
       "             label   pixel0   pixel1   pixel2   pixel3   pixel4   pixel5  \\\n",
       "count  10000.00000  10000.0  10000.0  10000.0  10000.0  10000.0  10000.0   \n",
       "mean       4.45140      0.0      0.0      0.0      0.0      0.0      0.0   \n",
       "std        2.90222      0.0      0.0      0.0      0.0      0.0      0.0   \n",
       "min        0.00000      0.0      0.0      0.0      0.0      0.0      0.0   \n",
       "25%        2.00000      0.0      0.0      0.0      0.0      0.0      0.0   \n",
       "50%        4.00000      0.0      0.0      0.0      0.0      0.0      0.0   \n",
       "75%        7.00000      0.0      0.0      0.0      0.0      0.0      0.0   \n",
       "max        9.00000      0.0      0.0      0.0      0.0      0.0      0.0   \n",
       "\n",
       "        pixel6   pixel7   pixel8  ...     pixel774      pixel775  \\\n",
       "count  10000.0  10000.0  10000.0  ...  10000.00000  10000.000000   \n",
       "mean       0.0      0.0      0.0  ...      0.29560      0.098500   \n",
       "std        0.0      0.0      0.0  ...      7.26243      4.164461   \n",
       "min        0.0      0.0      0.0  ...      0.00000      0.000000   \n",
       "25%        0.0      0.0      0.0  ...      0.00000      0.000000   \n",
       "50%        0.0      0.0      0.0  ...      0.00000      0.000000   \n",
       "75%        0.0      0.0      0.0  ...      0.00000      0.000000   \n",
       "max        0.0      0.0      0.0  ...    253.00000    254.000000   \n",
       "\n",
       "           pixel776      pixel777      pixel778    pixel779  pixel780  \\\n",
       "count  10000.000000  10000.000000  10000.000000  10000.0000   10000.0   \n",
       "mean       0.018600      0.010700      0.040800      0.0058       0.0   \n",
       "std        1.617997      0.815507      2.970255      0.5800       0.0   \n",
       "min        0.000000      0.000000      0.000000      0.0000       0.0   \n",
       "25%        0.000000      0.000000      0.000000      0.0000       0.0   \n",
       "50%        0.000000      0.000000      0.000000      0.0000       0.0   \n",
       "75%        0.000000      0.000000      0.000000      0.0000       0.0   \n",
       "max      160.000000     79.000000    254.000000     58.0000       0.0   \n",
       "\n",
       "       pixel781  pixel782  pixel783  \n",
       "count   10000.0   10000.0   10000.0  \n",
       "mean        0.0       0.0       0.0  \n",
       "std         0.0       0.0       0.0  \n",
       "min         0.0       0.0       0.0  \n",
       "25%         0.0       0.0       0.0  \n",
       "50%         0.0       0.0       0.0  \n",
       "75%         0.0       0.0       0.0  \n",
       "max         0.0       0.0       0.0  \n",
       "\n",
       "[8 rows x 785 columns]"
      ]
     },
     "execution_count": 16,
     "metadata": {},
     "output_type": "execute_result"
    }
   ],
   "source": [
    "train_data.describe()"
   ]
  },
  {
   "cell_type": "code",
   "execution_count": 17,
   "metadata": {},
   "outputs": [],
   "source": [
    "label_array=train_data[['label']].values"
   ]
  },
  {
   "cell_type": "code",
   "execution_count": 18,
   "metadata": {},
   "outputs": [],
   "source": [
    "train_data.drop('label', axis=1, inplace=True)"
   ]
  },
  {
   "cell_type": "code",
   "execution_count": 19,
   "metadata": {},
   "outputs": [],
   "source": [
    "data_array = train_data.values"
   ]
  },
  {
   "cell_type": "code",
   "execution_count": 20,
   "metadata": {},
   "outputs": [
    {
     "data": {
      "text/plain": [
       "(10000, 784)"
      ]
     },
     "execution_count": 20,
     "metadata": {},
     "output_type": "execute_result"
    }
   ],
   "source": [
    "data_array.shape"
   ]
  },
  {
   "cell_type": "code",
   "execution_count": 21,
   "metadata": {},
   "outputs": [
    {
     "data": {
      "text/plain": [
       "28.0"
      ]
     },
     "execution_count": 21,
     "metadata": {},
     "output_type": "execute_result"
    }
   ],
   "source": [
    "784/28"
   ]
  },
  {
   "cell_type": "code",
   "execution_count": 29,
   "metadata": {},
   "outputs": [
    {
     "name": "stdout",
     "output_type": "stream",
     "text": [
      "4\n",
      "                            \n",
      "                            \n",
      "                            \n",
      "                            \n",
      "                            \n",
      "                            \n",
      "                     @      \n",
      "         @@          @@     \n",
      "        @@@          @      \n",
      "        @@          @@      \n",
      "       @@@          @@      \n",
      "      @@@          @@@      \n",
      "     @@@           @@       \n",
      "     @@@@@        @@@       \n",
      "      @@@@@@@@   @@@        \n",
      "           @@@@@@@@@        \n",
      "               @@@@@        \n",
      "                @@          \n",
      "               @@@          \n",
      "              @@@           \n",
      "              @@@           \n",
      "             @@@            \n",
      "             @@             \n",
      "            @@@             \n",
      "            @@              \n",
      "            @               \n",
      "                            \n",
      "                            \n",
      "\n",
      "\n",
      "\n",
      "\n",
      "0\n",
      "                            \n",
      "                            \n",
      "                            \n",
      "                            \n",
      "                            \n",
      "             @@@@@@         \n",
      "            @@@@@@@@@       \n",
      "            @@@@   @@       \n",
      "           @@@@@    @@@     \n",
      "         @@@@       @@@     \n",
      "         @@@         @@     \n",
      "        @@           @@     \n",
      "       @@@           @@@    \n",
      "      @@@            @@     \n",
      "      @@@            @@     \n",
      "      @@             @@     \n",
      "     @@             @@@     \n",
      "     @@             @@      \n",
      "     @            @@@@      \n",
      "     @@          @@@        \n",
      "     @@       @@@@@         \n",
      "     @@@@@@@@@@@@           \n",
      "       @@@@@@@              \n",
      "                            \n",
      "                            \n",
      "                            \n",
      "                            \n",
      "                            \n",
      "\n",
      "\n",
      "\n",
      "\n",
      "9\n",
      "                            \n",
      "                            \n",
      "                            \n",
      "                            \n",
      "                            \n",
      "                            \n",
      "               @@           \n",
      "             @@@@@          \n",
      "            @@@@@@          \n",
      "           @@@  @@          \n",
      "           @@   @@          \n",
      "          @@    @@          \n",
      "          @     @           \n",
      "         @@   @             \n",
      "         @   @@@            \n",
      "         @  @@@@            \n",
      "         @@@@@@@@           \n",
      "          @@@   @           \n",
      "                @@          \n",
      "                @@          \n",
      "                @@          \n",
      "                 @          \n",
      "                 @          \n",
      "                 @@         \n",
      "                 @@         \n",
      "                  @         \n",
      "                            \n",
      "                            \n",
      "\n",
      "\n",
      "\n",
      "\n",
      "9\n",
      "                            \n",
      "                            \n",
      "                            \n",
      "                            \n",
      "                            \n",
      "                            \n",
      "                            \n",
      "             @@@@           \n",
      "           @@@@@@@          \n",
      "         @@@@   @@@         \n",
      "         @@     @@@         \n",
      "        @@      @@@         \n",
      "       @@     @@@@@         \n",
      "       @@    @@@@@          \n",
      "       @@@@@@@@@@@          \n",
      "        @@@@@  @@@          \n",
      "         @@    @@@          \n",
      "               @@@          \n",
      "               @@           \n",
      "               @@           \n",
      "               @@           \n",
      "               @@           \n",
      "               @@           \n",
      "               @@           \n",
      "               @@           \n",
      "               @@           \n",
      "                @           \n",
      "                            \n",
      "\n",
      "\n",
      "\n",
      "\n"
     ]
    }
   ],
   "source": [
    "# lets do a simple ascii art type of display, of the first 4 digits\n",
    "my_digit_row = ''\n",
    "my_full_digit = ''\n",
    "\n",
    "my_digit_range = range (0,4)\n",
    "\n",
    "for digit in my_digit_range:\n",
    "    my_full_digit=''\n",
    "    for col in range (0,28):\n",
    "        my_digit_row=''\n",
    "        for pixel in range(0,28):\n",
    "            #my_digit_row += (f'{int(str(data_array[digit][(col*28)+pixel])):03}') \n",
    "            if int(str(data_array[digit][(col*28)+pixel]))>0:\n",
    "                if int(str(data_array[digit][(col*28)+pixel]))>225:\n",
    "                    my_digit_row+='@'\n",
    "                else:\n",
    "                    my_digit_row+=' '\n",
    "                \n",
    "            else:\n",
    "                my_digit_row+=' '\n",
    "            #my_digit_row += str(data_array[0][0])\n",
    "        my_full_digit += my_digit_row + '\\n'\n",
    "    print(label_array[digit][0])\n",
    "    print(my_full_digit)\n",
    "    \n",
    "    print('\\n\\n')\n",
    "    "
   ]
  },
  {
   "cell_type": "code",
   "execution_count": 23,
   "metadata": {},
   "outputs": [
    {
     "name": "stdout",
     "output_type": "stream",
     "text": [
      "shape :  (28, 28)\n"
     ]
    },
    {
     "data": {
      "image/png": "[encoded data removed]",
      "text/plain": [
       "<Figure size 432x288 with 1 Axes>"
      ]
     },
     "metadata": {
      "needs_background": "light"
     },
     "output_type": "display_data"
    }
   ],
   "source": [
    "# lets have a look at the first row\n",
    "row=0\n",
    "#reshape it to 28 x 28\n",
    "a_digit = np.reshape(data_array[row,:],(-1,28))\n",
    "#use matplotlib to visualize it\n",
    "print('shape : ', a_digit.shape)\n",
    "plt.imshow(a_digit,cmap=\"gray\")\n",
    "plt.show()\n"
   ]
  },
  {
   "cell_type": "code",
   "execution_count": 11,
   "metadata": {},
   "outputs": [
    {
     "name": "stdout",
     "output_type": "stream",
     "text": [
      "4\n"
     ]
    },
    {
     "data": {
      "image/png": "[encoded data removed]",
      "text/plain": [
       "<Figure size 432x288 with 1 Axes>"
      ]
     },
     "metadata": {
      "needs_background": "light"
     },
     "output_type": "display_data"
    },
    {
     "name": "stdout",
     "output_type": "stream",
     "text": [
      "0\n"
     ]
    },
    {
     "data": {
      "image/png": "[encoded data removed]",
      "text/plain": [
       "<Figure size 432x288 with 1 Axes>"
      ]
     },
     "metadata": {
      "needs_background": "light"
     },
     "output_type": "display_data"
    },
    {
     "name": "stdout",
     "output_type": "stream",
     "text": [
      "9\n"
     ]
    },
    {
     "data": {
      "image/png": "[encoded data removed]",
      "text/plain": [
       "<Figure size 432x288 with 1 Axes>"
      ]
     },
     "metadata": {
      "needs_background": "light"
     },
     "output_type": "display_data"
    },
    {
     "name": "stdout",
     "output_type": "stream",
     "text": [
      "9\n"
     ]
    },
    {
     "data": {
      "image/png": "[encoded data removed]",
      "text/plain": [
       "<Figure size 432x288 with 1 Axes>"
      ]
     },
     "metadata": {
      "needs_background": "light"
     },
     "output_type": "display_data"
    }
   ],
   "source": [
    "# loop through the first 4 and visualize them\n",
    "my_digit_range = range (0,4)\n",
    "\n",
    "for a_row in my_digit_range:\n",
    "    print(label_array[a_row][0])\n",
    "    xxx = np.reshape(data_array[a_row,:],(-1,28))\n",
    "    plt.imshow(xxx,cmap=\"gray\")\n",
    "    plt.show()"
   ]
  },
  {
   "cell_type": "code",
   "execution_count": 12,
   "metadata": {},
   "outputs": [
    {
     "data": {
      "image/png": "[encoded data removed]",
      "text/plain": [
       "<Figure size 432x288 with 1 Axes>"
      ]
     },
     "metadata": {
      "needs_background": "light"
     },
     "output_type": "display_data"
    }
   ],
   "source": [
    "# visualize the first 4, all together with reshape on a range\n",
    "my_digit_range = range (0,4)\n",
    "xxx = np.reshape(data_array[my_digit_range,:],(-1,28))\n",
    "plt.imshow(xxx,cmap=\"gray\")\n",
    "plt.show()"
   ]
  },
  {
   "cell_type": "code",
   "execution_count": 30,
   "metadata": {},
   "outputs": [],
   "source": [
    "test_data = pd.read_csv(\"excluded/test.csv\")"
   ]
  },
  {
   "cell_type": "code",
   "execution_count": 31,
   "metadata": {},
   "outputs": [],
   "source": [
    "data_array = test_data.values"
   ]
  },
  {
   "cell_type": "code",
   "execution_count": 32,
   "metadata": {},
   "outputs": [
    {
     "data": {
      "image/png": "[encoded data removed]",
      "text/plain": [
       "<Figure size 432x288 with 1 Axes>"
      ]
     },
     "metadata": {
      "needs_background": "light"
     },
     "output_type": "display_data"
    },
    {
     "data": {
      "image/png": "[encoded data removed]",
      "text/plain": [
       "<Figure size 432x288 with 1 Axes>"
      ]
     },
     "metadata": {
      "needs_background": "light"
     },
     "output_type": "display_data"
    },
    {
     "data": {
      "image/png": "[encoded data removed]",
      "text/plain": [
       "<Figure size 432x288 with 1 Axes>"
      ]
     },
     "metadata": {
      "needs_background": "light"
     },
     "output_type": "display_data"
    },
    {
     "data": {
      "image/png": "[encoded data removed]",
      "text/plain": [
       "<Figure size 432x288 with 1 Axes>"
      ]
     },
     "metadata": {
      "needs_background": "light"
     },
     "output_type": "display_data"
    }
   ],
   "source": [
    "# loop through the first 4 and visualize them\n",
    "my_digit_range = range (0,4)\n",
    "\n",
    "for a_row in my_digit_range:\n",
    "    xxx = np.reshape(data_array[a_row,:],(-1,28))\n",
    "    plt.imshow(xxx,cmap=\"gray\")\n",
    "    plt.show()"
   ]
  },
  {
   "cell_type": "code",
   "execution_count": null,
   "metadata": {},
   "outputs": [],
   "source": []
  }
 ],
 "metadata": {
  "kernelspec": {
   "display_name": "Python (py37_1)",
   "language": "python",
   "name": "py37_1"
  },
  "language_info": {
   "codemirror_mode": {
    "name": "ipython",
    "version": 3
   },
   "file_extension": ".py",
   "mimetype": "text/x-python",
   "name": "python",
   "nbconvert_exporter": "python",
   "pygments_lexer": "ipython3",
   "version": "3.7.5"
  }
 },
 "nbformat": 4,
 "nbformat_minor": 2
}
